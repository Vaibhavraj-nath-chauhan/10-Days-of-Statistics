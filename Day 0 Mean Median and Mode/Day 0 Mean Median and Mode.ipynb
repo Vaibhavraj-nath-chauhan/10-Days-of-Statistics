{
 "cells": [
  {
   "cell_type": "markdown",
   "metadata": {},
   "source": [
    "##### Challenge Link -->             https://www.hackerrank.com/challenges/s10-basic-statistics/problem"
   ]
  },
  {
   "cell_type": "code",
   "execution_count": null,
   "metadata": {},
   "outputs": [],
   "source": [
    "N = int(input())\n",
    "array = sorted(list(map(int,input().split())))\n",
    "print(sum(array)/N)\n",
    "if N%2==0:\n",
    "    print((array[(int(N/2) -1)]+array[((int(N/2) -1)+1)]/2))\n",
    "else:\n",
    "    print(array[int((N+1)/2)]/2)\n",
    "setup = sorted(list(set(array)))\n",
    "count = 1\n",
    "number = 0\n",
    "for i in setup:\n",
    "    zero = array.count(i)\n",
    "    if zero>count:\n",
    "        number = i\n",
    "        count = zero\n",
    "if number != 0:\n",
    "    print(number)\n",
    "else:\n",
    "    print(array[0])"
   ]
  }
 ],
 "metadata": {
  "kernelspec": {
   "display_name": "Python 3",
   "language": "python",
   "name": "python3"
  },
  "language_info": {
   "codemirror_mode": {
    "name": "ipython",
    "version": 3
   },
   "file_extension": ".py",
   "mimetype": "text/x-python",
   "name": "python",
   "nbconvert_exporter": "python",
   "pygments_lexer": "ipython3",
   "version": "3.7.6"
  }
 },
 "nbformat": 4,
 "nbformat_minor": 4
}
