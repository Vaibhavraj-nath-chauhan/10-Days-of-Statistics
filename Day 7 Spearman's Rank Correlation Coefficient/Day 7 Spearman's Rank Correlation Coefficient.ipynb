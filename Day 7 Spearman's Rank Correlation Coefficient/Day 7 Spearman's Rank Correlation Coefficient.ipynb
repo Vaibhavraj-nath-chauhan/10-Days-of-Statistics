{
 "cells": [
  {
   "cell_type": "markdown",
   "metadata": {},
   "source": [
    "##### Challenge Link -->             https://www.hackerrank.com/challenges/s10-spearman-rank-correlation-coefficient/problem"
   ]
  },
  {
   "cell_type": "code",
   "execution_count": null,
   "metadata": {},
   "outputs": [],
   "source": [
    "n = int(input())\n",
    "x = list(map(float,input().split()))\n",
    "y = list(map(float,input().split()))\n",
    "rankx = [sorted(x).index(i)+1 for i in x]\n",
    "ranky = [sorted(y).index(i)+1 for i in y]\n",
    "ranks = sum(map(lambda x:x**2,map(lambda r1,r2:r1-r2,rankx,ranky)))\n",
    "print(\"%.3f\"%(1-(6 * ranks)/(n*(n**2-1))))"
   ]
  }
 ],
 "metadata": {
  "kernelspec": {
   "display_name": "Python 3",
   "language": "python",
   "name": "python3"
  },
  "language_info": {
   "codemirror_mode": {
    "name": "ipython",
    "version": 3
   },
   "file_extension": ".py",
   "mimetype": "text/x-python",
   "name": "python",
   "nbconvert_exporter": "python",
   "pygments_lexer": "ipython3",
   "version": "3.7.6"
  }
 },
 "nbformat": 4,
 "nbformat_minor": 4
}
