{
 "cells": [
  {
   "cell_type": "markdown",
   "metadata": {},
   "source": [
    "##### Challenge Link -->             https://www.hackerrank.com/challenges/s10-pearson-correlation-coefficient/problem"
   ]
  },
  {
   "cell_type": "code",
   "execution_count": null,
   "metadata": {},
   "outputs": [],
   "source": [
    "n = int(input())\n",
    "x = list(map(float,input().split()))\n",
    "y = list(map(float,input().split()))\n",
    "x_m = sum(x)/n\n",
    "y_m = sum(y)/n\n",
    "x_st = 0\n",
    "y_st = 0\n",
    "main_xy = 0\n",
    "for i in range(n):\n",
    "    a = (x[i] - x_m)\n",
    "    b = (y[i] - y_m)\n",
    "    main_xy += a*b\n",
    "    x_st += a**2\n",
    "    y_st += b**2\n",
    "x_st = (x_st/n)**.5\n",
    "y_st = (y_st/n)**.5\n",
    "pearson = main_xy/(n*x_st*y_st)\n",
    "print(\"%.3f\"%pearson)"
   ]
  }
 ],
 "metadata": {
  "kernelspec": {
   "display_name": "Python 3",
   "language": "python",
   "name": "python3"
  },
  "language_info": {
   "codemirror_mode": {
    "name": "ipython",
    "version": 3
   },
   "file_extension": ".py",
   "mimetype": "text/x-python",
   "name": "python",
   "nbconvert_exporter": "python",
   "pygments_lexer": "ipython3",
   "version": "3.7.6"
  }
 },
 "nbformat": 4,
 "nbformat_minor": 4
}
