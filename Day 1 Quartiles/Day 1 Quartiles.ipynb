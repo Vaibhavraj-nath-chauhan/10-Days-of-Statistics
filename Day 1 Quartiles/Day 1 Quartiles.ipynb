{
 "cells": [
  {
   "cell_type": "markdown",
   "metadata": {},
   "source": [
    "##### Challenge Link -->             https://www.hackerrank.com/challenges/s10-quartiles/tutorial"
   ]
  },
  {
   "cell_type": "code",
   "execution_count": null,
   "metadata": {},
   "outputs": [],
   "source": [
    "N = int(input())\n",
    "array = sorted(list(map(int,input().split())))\n",
    "if N%2==0:\n",
    "    output_0 =int(N/2)-1 \n",
    "    output_1 = output_0+1\n",
    "    a = array[:output_0+1]\n",
    "    b = list(array[output_0:output_1+1])\n",
    "    c = array[output_1:]\n",
    "else:\n",
    "    output_0 = int((N+1)/2)-1\n",
    "    a = array[:output_0]\n",
    "    b = [array[output_0]]\n",
    "    c = array[output_0+1:]\n",
    "    \n",
    "size = len(a)\n",
    "if size%2==0:\n",
    "    output_0 =int(size/2)-1 \n",
    "    output_1 = output_0+1\n",
    "    print(int((a[output_0]+a[output_1])/2))\n",
    "else:\n",
    "    output_0 = int((size+1)/2)-1\n",
    "    print(a[output_0])\n",
    "    \n",
    "size = len(b)\n",
    "if size%2==0:\n",
    "    output_0 =int(size/2)-1 \n",
    "    output_1 = output_0+1\n",
    "    print(int((b[output_0]+b[output_1])/2))\n",
    "else:\n",
    "    output_0 = int((size+1)/2)-1\n",
    "    print(b[output_0])\n",
    "    \n",
    "size = len(c)\n",
    "if size%2==0:\n",
    "    output_0 =int(size/2)-1 \n",
    "    output_1 = output_0+1\n",
    "    print(int((c[output_0]+c[output_1])/2))\n",
    "else:\n",
    "    output_0 = int((size+1)/2)-1\n",
    "    print(c[output_0])"
   ]
  }
 ],
 "metadata": {
  "kernelspec": {
   "display_name": "Python 3",
   "language": "python",
   "name": "python3"
  },
  "language_info": {
   "codemirror_mode": {
    "name": "ipython",
    "version": 3
   },
   "file_extension": ".py",
   "mimetype": "text/x-python",
   "name": "python",
   "nbconvert_exporter": "python",
   "pygments_lexer": "ipython3",
   "version": "3.7.6"
  }
 },
 "nbformat": 4,
 "nbformat_minor": 4
}
