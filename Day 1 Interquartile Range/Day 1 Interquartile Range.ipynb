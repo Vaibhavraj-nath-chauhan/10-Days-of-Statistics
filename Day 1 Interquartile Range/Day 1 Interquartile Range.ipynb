{
 "cells": [
  {
   "cell_type": "markdown",
   "metadata": {},
   "source": [
    "##### Challenge Link -->             https://www.hackerrank.com/challenges/s10-interquartile-range/problem"
   ]
  },
  {
   "cell_type": "code",
   "execution_count": null,
   "metadata": {},
   "outputs": [],
   "source": [
    "T = int(input())\n",
    "X = list(map(int,input().split()))\n",
    "F = list(map(int,input().split()))\n",
    "from itertools import chain\n",
    "output = []\n",
    "def sumed(st,op):\n",
    "    return [st]*op\n",
    "[output.append(sumed(X[i],F[i])) for i in range(T)]\n",
    "output = sorted(list(chain(*output)))\n",
    "\n",
    "def median(test):\n",
    "    if len(test)%2 ==0:\n",
    "        k = int(len(test)/2)-1\n",
    "        return (test[k]+test[k+1])/2\n",
    "    else:\n",
    "        k = int((len(test)-1)/2)\n",
    "        return test[k]\n",
    "T = len(output)\n",
    "if T%2==0:\n",
    "    a = output[:int(T/2)]\n",
    "    b = output[int(T/2):]\n",
    "    print(float(median(b)-median(a)))\n",
    "else:\n",
    "    a = output[:int((T+1)/2)-1]\n",
    "    b = output[int((T+1)/2):]\n",
    "    print(float(median(b)-median(a)))"
   ]
  }
 ],
 "metadata": {
  "kernelspec": {
   "display_name": "Python 3",
   "language": "python",
   "name": "python3"
  },
  "language_info": {
   "codemirror_mode": {
    "name": "ipython",
    "version": 3
   },
   "file_extension": ".py",
   "mimetype": "text/x-python",
   "name": "python",
   "nbconvert_exporter": "python",
   "pygments_lexer": "ipython3",
   "version": "3.7.6"
  }
 },
 "nbformat": 4,
 "nbformat_minor": 4
}
