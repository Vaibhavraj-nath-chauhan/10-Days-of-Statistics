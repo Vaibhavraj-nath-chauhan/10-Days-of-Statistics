{
 "cells": [
  {
   "cell_type": "markdown",
   "metadata": {},
   "source": [
    "##### Challenge Link -->             https://www.hackerrank.com/challenges/s10-binomial-distribution-1/problem"
   ]
  },
  {
   "cell_type": "code",
   "execution_count": null,
   "metadata": {},
   "outputs": [],
   "source": [
    "boy,girl = map(float,input().split())\n",
    "def f(n):\n",
    "    fact =1\n",
    "    for i in range(1,n+1):\n",
    "        fact *= i\n",
    "    return fact\n",
    "\n",
    "n =6\n",
    "c = 3\n",
    "p = boy/(boy+girl)\n",
    "q = 1-p\n",
    "data = 0\n",
    "fact = 0\n",
    "bil =0\n",
    "for x in range(3,n+1):\n",
    "    fact = f(n)/(f(x)*f(n-x))\n",
    "    bil = (p**x)*(q**(n-x))\n",
    "    data +=fact*bil\n",
    "print(\"%.3f\"%data)"
   ]
  }
 ],
 "metadata": {
  "kernelspec": {
   "display_name": "Python 3",
   "language": "python",
   "name": "python3"
  },
  "language_info": {
   "codemirror_mode": {
    "name": "ipython",
    "version": 3
   },
   "file_extension": ".py",
   "mimetype": "text/x-python",
   "name": "python",
   "nbconvert_exporter": "python",
   "pygments_lexer": "ipython3",
   "version": "3.7.6"
  }
 },
 "nbformat": 4,
 "nbformat_minor": 4
}
