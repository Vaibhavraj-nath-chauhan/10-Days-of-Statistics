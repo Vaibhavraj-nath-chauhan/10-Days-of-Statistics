{
 "cells": [
  {
   "cell_type": "markdown",
   "metadata": {},
   "source": [
    "##### Challenge Link -->             https://www.hackerrank.com/challenges/s10-least-square-regression-line/problem"
   ]
  },
  {
   "cell_type": "code",
   "execution_count": null,
   "metadata": {},
   "outputs": [],
   "source": [
    "n = 5\n",
    "x,y = [],[]\n",
    "for i in range(n):\n",
    "    inx,iny = list(map(int,input().split()))\n",
    "    x.append(inx)\n",
    "    y.append(iny)\n",
    "xi = sum(x)\n",
    "x_m = xi/n\n",
    "yi = sum(y)\n",
    "y_m = yi/n\n",
    "xy = sum(map(lambda x,y:x*y,x,y))\n",
    "x2 = sum(map(lambda x:x**2,x))\n",
    "b = ((n*xy)-(xi*yi))/((n*x2)-(xi**2))\n",
    "a = (y_m - (b*x_m))\n",
    "y_bar = (a + (b*80))\n",
    "print(\"%.3f\"%y_bar)"
   ]
  }
 ],
 "metadata": {
  "kernelspec": {
   "display_name": "Python 3",
   "language": "python",
   "name": "python3"
  },
  "language_info": {
   "codemirror_mode": {
    "name": "ipython",
    "version": 3
   },
   "file_extension": ".py",
   "mimetype": "text/x-python",
   "name": "python",
   "nbconvert_exporter": "python",
   "pygments_lexer": "ipython3",
   "version": "3.7.6"
  }
 },
 "nbformat": 4,
 "nbformat_minor": 4
}
